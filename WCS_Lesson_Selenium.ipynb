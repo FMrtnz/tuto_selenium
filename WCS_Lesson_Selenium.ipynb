{
 "cells": [
  {
   "cell_type": "markdown",
   "id": "9a309372",
   "metadata": {
    "id": "9a309372"
   },
   "source": [
    "## Web Scraping with Selenium\n",
    "\n",
    "### The Problem\n",
    "\n",
    "Many different situation. "
   ]
  },
  {
   "cell_type": "code",
   "execution_count": null,
   "id": "b1c4ce0a",
   "metadata": {
    "id": "b1c4ce0a",
    "scrolled": true
   },
   "outputs": [],
   "source": [
    "# Importing libraries\n",
    "import requests\n",
    "from bs4 import BeautifulSoup\n",
    "\n",
    "# Grab page with request\n",
    "url = \"https://www.wildcodeschool.com/en-GB\"                           #Sometimes the data is in the code!!\n",
    "url = \"https://www.farfetch.com/pt/shopping/women/coats-1/items.aspx\"  #If you don't scroll down nothing happens\n",
    "url = \"https://www.linkedin.com/feed/\"                                   #How are you going to get access?\n",
    "url = \"https://www.glassdoor.com/Job/portugal-jobs-SRCH_IL.0,8_IN195.htm\"         #You need to insert info to get what you want\n",
    "html = requests.get(url)\n",
    "\n",
    "# Turn into BS page\n",
    "#soup = BeautifulSoup(html.text, 'html.parser')\n",
    "#print(soup.prettify())"
   ]
  },
  {
   "cell_type": "markdown",
   "id": "51dcffc7",
   "metadata": {
    "id": "51dcffc7"
   },
   "source": [
    "### The Solution"
   ]
  },
  {
   "cell_type": "code",
   "execution_count": null,
   "id": "f5a79e5d",
   "metadata": {
    "id": "f5a79e5d",
    "scrolled": false
   },
   "outputs": [],
   "source": [
    "# Install webdriver-manager\n",
    "!pip install webdriver-manager"
   ]
  },
  {
   "cell_type": "code",
   "execution_count": null,
   "id": "e41b1525",
   "metadata": {
    "scrolled": true
   },
   "outputs": [],
   "source": [
    "!pip install --upgrade pip"
   ]
  },
  {
   "cell_type": "code",
   "execution_count": null,
   "id": "42d0bb59",
   "metadata": {
    "scrolled": true
   },
   "outputs": [],
   "source": [
    "!pip install selenium"
   ]
  },
  {
   "cell_type": "code",
   "execution_count": null,
   "id": "0c3dc290",
   "metadata": {
    "id": "0c3dc290"
   },
   "outputs": [],
   "source": [
    "# Libraries \n",
    "from getpass import getpass\n",
    "from selenium import webdriver\n",
    "from webdriver_manager.chrome import ChromeDriverManager\n",
    "#from selenium.webdriver.firefox.service import Service\n",
    "#from webdriver_manager.firefox import GeckoDriverManager\n",
    "\n",
    "from selenium.webdriver.common.action_chains import ActionChains\n",
    "\n",
    "from selenium.webdriver.common.keys import Keys\n",
    "import pandas as pd"
   ]
  },
  {
   "cell_type": "code",
   "execution_count": null,
   "id": "d9f4f4da",
   "metadata": {
    "id": "d9f4f4da",
    "outputId": "e344c525-a37e-4d3d-ce15-2d541170f201",
    "scrolled": true
   },
   "outputs": [],
   "source": [
    "# Options had been added to avoid problems or notificatiobns when scrapping\n",
    "chrome_options = webdriver.ChromeOptions()\n",
    "prefs = {\"profile.default_content_setting_values.notifications\" : 2}\n",
    "chrome_options.add_experimental_option(\"prefs\",prefs)\n",
    "# Selenium needs a driver for the browser\n",
    "driver = webdriver.Chrome(ChromeDriverManager().install(), chrome_options=chrome_options)\n",
    "#driver = webdriver.Firefox(service=Service(GeckoDriverManager().install()))\n",
    "driver.get(\"https://odyssey.wildcodeschool.com/\")\n",
    "\n",
    "# Wait that the page loaded\n",
    "driver.implicitly_wait(10)\n",
    "\n",
    "# locate email form by_class_name\n",
    "username = driver.find_element_by_id('login-email')\n",
    "\n",
    "my_email = input('\\nEnter your email: ')\n",
    "\n",
    "# send_keys() to simulate key strokes\n",
    "username.send_keys(my_email)\n",
    "\n",
    "# locate password form by_class_name\n",
    "password = driver.find_element_by_id('login-password')\n",
    "\n",
    "# Display input to get the account password\n",
    "mypass = getpass('\\nEnter your password: ')\n",
    "\n",
    "# send_keys() to simulate key strokes\n",
    "password.send_keys(mypass)\n",
    "\n",
    "# locate submit button by_class_name\n",
    "log_in_button = driver.find_element_by_id('login-submit')  #TODO: fix. Says the button is not there.\n",
    "\n",
    "# .click() to mimic button click\n",
    "log_in_button.click()"
   ]
  },
  {
   "cell_type": "code",
   "execution_count": null,
   "id": "d92713b4",
   "metadata": {},
   "outputs": [],
   "source": [
    "#driver.implicitly_wait(10)\n",
    "#driver.refresh()"
   ]
  },
  {
   "cell_type": "code",
   "execution_count": null,
   "id": "8d7ee7ca",
   "metadata": {
    "id": "8d7ee7ca"
   },
   "outputs": [],
   "source": [
    "# Get the page with the quests\n",
    "driver.get('https://odyssey.wildcodeschool.com/quests')"
   ]
  },
  {
   "cell_type": "code",
   "execution_count": null,
   "id": "36f07041",
   "metadata": {},
   "outputs": [],
   "source": [
    "driver.implicitly_wait(10)\n",
    "# Select button to display lists of quests' status filter\n",
    "elements = driver.find_elements_by_css_selector('button[type=\"button\"]')\n",
    "\n",
    "for i, elt in enumerate(elements):\n",
    "    if (elt.text) == \"COMPLETION\":\n",
    "        print(i,\"_\", elt.text)\n",
    "        elt.click()\n"
   ]
  },
  {
   "cell_type": "code",
   "execution_count": null,
   "id": "0ea6ae47",
   "metadata": {},
   "outputs": [],
   "source": [
    "# Search the link to not-started quests\n",
    "menu_list = driver.find_elements_by_css_selector('ul div')\n",
    "for option in menu_list:\n",
    "    if option.text == \"Show only not-started quests\":\n",
    "        print(option.text)\n",
    "        option.click()"
   ]
  },
  {
   "cell_type": "code",
   "execution_count": null,
   "id": "cf95ff4d",
   "metadata": {
    "id": "cf95ff4d"
   },
   "outputs": [],
   "source": [
    "# Displays all the quests left\n",
    "quests_left = pd.DataFrame(driver.find_elements_by_css_selector(\"div.quest_titleContainer\"), columns=[\"html\"])\n",
    "quests_left[\"label\"] = quests_left[\"html\"].apply(lambda x : x.text)\n",
    "quests_left[\"label\"]"
   ]
  },
  {
   "cell_type": "code",
   "execution_count": null,
   "id": "b4f1dd97",
   "metadata": {},
   "outputs": [],
   "source": [
    "quest_num = int(input(\"Please select a quest : \"))"
   ]
  },
  {
   "cell_type": "code",
   "execution_count": null,
   "id": "ab9981b7",
   "metadata": {
    "id": "ab9981b7"
   },
   "outputs": [],
   "source": [
    "# Mouve the robot to the selected element then cLick the button to see the quest\n",
    "a = ActionChains(driver)\n",
    "a.move_to_element(quests_left.loc[quest_num, \"html\"]).perform()\n",
    "driver.find_element_by_link_text(\"SEE QUEST\").click()"
   ]
  },
  {
   "cell_type": "code",
   "execution_count": null,
   "id": "9ea034e6",
   "metadata": {
    "id": "9ea034e6"
   },
   "outputs": [],
   "source": [
    "# Get info with Selenium\n",
    "quests_left = pd.DataFrame(driver.find_elements_by_css_selector(\"div\"), columns=[\"html\"])\n",
    "quests_left[\"text\"] = quests_left[\"html\"].apply(lambda x : x.text)\n",
    "quests_left[\"attributes\"] = quests_left[\"html\"].apply(lambda x : x.get_attribute(\"class\"))\n",
    "\n"
   ]
  },
  {
   "cell_type": "code",
   "execution_count": null,
   "id": "9e1eaf2d",
   "metadata": {},
   "outputs": [],
   "source": [
    "print(quests_left[quests_left[\"attributes\"].str.contains('questContent')][\"text\"].sum())"
   ]
  }
 ],
 "metadata": {
  "colab": {
   "name": "WCS Lesson - Selenium.ipynb",
   "provenance": []
  },
  "kernelspec": {
   "display_name": "Python 3 (ipykernel)",
   "language": "python",
   "name": "python3"
  },
  "language_info": {
   "codemirror_mode": {
    "name": "ipython",
    "version": 3
   },
   "file_extension": ".py",
   "mimetype": "text/x-python",
   "name": "python",
   "nbconvert_exporter": "python",
   "pygments_lexer": "ipython3",
   "version": "3.9.7"
  }
 },
 "nbformat": 4,
 "nbformat_minor": 5
}
