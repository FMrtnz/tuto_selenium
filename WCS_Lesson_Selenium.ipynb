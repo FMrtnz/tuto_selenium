{
 "cells": [
  {
   "cell_type": "markdown",
   "id": "9a309372",
   "metadata": {
    "id": "9a309372"
   },
   "source": [
    "## Web Scraping with Selenium\n",
    "\n",
    "### The Problem\n",
    "\n",
    "Many different situation. "
   ]
  },
  {
   "cell_type": "code",
   "execution_count": 31,
   "id": "b1c4ce0a",
   "metadata": {
    "id": "b1c4ce0a",
    "scrolled": true
   },
   "outputs": [],
   "source": [
    "# Importing libraries\n",
    "import requests\n",
    "from bs4 import BeautifulSoup\n",
    "\n",
    "# Grab page with request\n",
    "url = \"https://www.wildcodeschool.com/en-GB\"                           #Sometimes the data is in the code!!\n",
    "url = \"https://www.farfetch.com/pt/shopping/women/coats-1/items.aspx\"  #If you don't scroll down nothing happens\n",
    "url = \"https://www.linkedin.com/feed/\"                                   #How are you going to get access?\n",
    "url = \"https://www.glassdoor.com/Job/portugal-jobs-SRCH_IL.0,8_IN195.htm\"         #You need to insert info to get what you want\n",
    "html = requests.get(url)\n",
    "\n",
    "# Turn into BS page\n",
    "#soup = BeautifulSoup(html.text, 'html.parser')\n",
    "#print(soup.prettify())"
   ]
  },
  {
   "cell_type": "markdown",
   "id": "51dcffc7",
   "metadata": {
    "id": "51dcffc7"
   },
   "source": [
    "### The Solution"
   ]
  },
  {
   "cell_type": "code",
   "execution_count": 32,
   "id": "f5a79e5d",
   "metadata": {
    "id": "f5a79e5d",
    "scrolled": false
   },
   "outputs": [],
   "source": [
    "# Install webdriver-manager\n",
    "#!pip install webdriver-manager"
   ]
  },
  {
   "cell_type": "code",
   "execution_count": 33,
   "id": "e41b1525",
   "metadata": {
    "scrolled": true
   },
   "outputs": [],
   "source": [
    "#!pip install --upgrade pip"
   ]
  },
  {
   "cell_type": "code",
   "execution_count": 34,
   "id": "42d0bb59",
   "metadata": {
    "scrolled": true
   },
   "outputs": [],
   "source": [
    "#!pip install selenium"
   ]
  },
  {
   "cell_type": "code",
   "execution_count": 35,
   "id": "0c3dc290",
   "metadata": {
    "id": "0c3dc290"
   },
   "outputs": [],
   "source": [
    "# Libraries \n",
    "from getpass import getpass\n",
    "from selenium import webdriver\n",
    "from webdriver_manager.chrome import ChromeDriverManager\n",
    "#from selenium.webdriver.firefox.service import Service\n",
    "#from webdriver_manager.firefox import GeckoDriverManager\n",
    "\n",
    "from selenium.webdriver.common.action_chains import ActionChains\n",
    "\n",
    "from selenium.webdriver.common.keys import Keys\n",
    "import pandas as pd"
   ]
  },
  {
   "cell_type": "code",
   "execution_count": 43,
   "id": "d9f4f4da",
   "metadata": {
    "id": "d9f4f4da",
    "outputId": "e344c525-a37e-4d3d-ce15-2d541170f201",
    "scrolled": true
   },
   "outputs": [
    {
     "name": "stdout",
     "output_type": "stream",
     "text": [
      "\n"
     ]
    },
    {
     "name": "stderr",
     "output_type": "stream",
     "text": [
      "[WDM] - ====== WebDriver manager ======\n",
      "[WDM] - Current google-chrome version is 101.0.4951\n",
      "[WDM] - Get LATEST chromedriver version for 101.0.4951 google-chrome\n",
      "[WDM] - Driver [/Users/fabien/.wdm/drivers/chromedriver/mac64/101.0.4951.41/chromedriver] found in cache\n",
      "/var/folders/ts/l4jvqvn135g1lpkckf7t5cmc0000gn/T/ipykernel_3478/502413214.py:6: DeprecationWarning: executable_path has been deprecated, please pass in a Service object\n",
      "  driver = webdriver.Chrome(ChromeDriverManager().install(), chrome_options=chrome_options)\n",
      "/var/folders/ts/l4jvqvn135g1lpkckf7t5cmc0000gn/T/ipykernel_3478/502413214.py:6: DeprecationWarning: use options instead of chrome_options\n",
      "  driver = webdriver.Chrome(ChromeDriverManager().install(), chrome_options=chrome_options)\n",
      "/var/folders/ts/l4jvqvn135g1lpkckf7t5cmc0000gn/T/ipykernel_3478/502413214.py:14: DeprecationWarning: find_element_by_* commands are deprecated. Please use find_element() instead\n",
      "  username = driver.find_element_by_id('login-email')\n"
     ]
    },
    {
     "name": "stdout",
     "output_type": "stream",
     "text": [
      "\n",
      "Enter your email: fab.mrtnz22@gmail.com\n"
     ]
    },
    {
     "name": "stderr",
     "output_type": "stream",
     "text": [
      "/var/folders/ts/l4jvqvn135g1lpkckf7t5cmc0000gn/T/ipykernel_3478/502413214.py:22: DeprecationWarning: find_element_by_* commands are deprecated. Please use find_element() instead\n",
      "  password = driver.find_element_by_id('login-password')\n"
     ]
    },
    {
     "name": "stdout",
     "output_type": "stream",
     "text": [
      "\n",
      "Enter your password: ········\n"
     ]
    },
    {
     "name": "stderr",
     "output_type": "stream",
     "text": [
      "/var/folders/ts/l4jvqvn135g1lpkckf7t5cmc0000gn/T/ipykernel_3478/502413214.py:31: DeprecationWarning: find_element_by_* commands are deprecated. Please use find_element() instead\n",
      "  log_in_button = driver.find_element_by_id('login-submit')  #TODO: fix. Says the button is not there.\n"
     ]
    }
   ],
   "source": [
    "# Options had been added to avoid problems or notificatiobns when scrapping\n",
    "chrome_options = webdriver.ChromeOptions()\n",
    "prefs = {\"profile.default_content_setting_values.notifications\" : 2}\n",
    "chrome_options.add_experimental_option(\"prefs\",prefs)\n",
    "# Selenium needs a driver for the browser\n",
    "driver = webdriver.Chrome(ChromeDriverManager().install(), chrome_options=chrome_options)\n",
    "#driver = webdriver.Firefox(service=Service(GeckoDriverManager().install()))\n",
    "driver.get(\"https://odyssey.wildcodeschool.com/\")\n",
    "\n",
    "# Wait that the page loaded\n",
    "driver.implicitly_wait(10)\n",
    "\n",
    "# locate email form by_class_name\n",
    "username = driver.find_element_by_id('login-email')\n",
    "\n",
    "my_email = input('\\nEnter your email: ')\n",
    "\n",
    "# send_keys() to simulate key strokes\n",
    "username.send_keys(my_email)\n",
    "\n",
    "# locate password form by_class_name\n",
    "password = driver.find_element_by_id('login-password')\n",
    "\n",
    "# Display input to get the account password\n",
    "mypass = getpass('\\nEnter your password: ')\n",
    "\n",
    "# send_keys() to simulate key strokes\n",
    "password.send_keys(mypass)\n",
    "\n",
    "# locate submit button by_class_name\n",
    "log_in_button = driver.find_element_by_id('login-submit')  #TODO: fix. Says the button is not there.\n",
    "\n",
    "# .click() to mimic button click\n",
    "log_in_button.click()"
   ]
  },
  {
   "cell_type": "code",
   "execution_count": 37,
   "id": "f3f5a1f8",
   "metadata": {},
   "outputs": [],
   "source": [
    "#driver.implicitly_wait(10)\n",
    "#driver.refresh()"
   ]
  },
  {
   "cell_type": "code",
   "execution_count": 44,
   "id": "8d7ee7ca",
   "metadata": {
    "id": "8d7ee7ca"
   },
   "outputs": [],
   "source": [
    "# Get the page with the quests\n",
    "driver.get('https://odyssey.wildcodeschool.com/quests')"
   ]
  },
  {
   "cell_type": "code",
   "execution_count": 45,
   "id": "36f07041",
   "metadata": {},
   "outputs": [
    {
     "name": "stderr",
     "output_type": "stream",
     "text": [
      "/var/folders/ts/l4jvqvn135g1lpkckf7t5cmc0000gn/T/ipykernel_3478/1663956925.py:3: DeprecationWarning: find_elements_by_css_selector is deprecated. Please use find_elements(by=By.CSS_SELECTOR, value=css_selector) instead\n",
      "  elements = driver.find_elements_by_css_selector('button[type=\"button\"]')\n"
     ]
    },
    {
     "name": "stdout",
     "output_type": "stream",
     "text": [
      "6 _ COMPLETION\n"
     ]
    }
   ],
   "source": [
    "driver.implicitly_wait(10)\n",
    "# Select button to display lists of quests' status filter\n",
    "elements = driver.find_elements_by_css_selector('button[type=\"button\"]')\n",
    "\n",
    "for i, elt in enumerate(elements):\n",
    "    if (elt.text) == \"COMPLETION\":\n",
    "        print(i,\"_\", elt.text)\n",
    "        elt.click()\n"
   ]
  },
  {
   "cell_type": "code",
   "execution_count": 46,
   "id": "0ea6ae47",
   "metadata": {},
   "outputs": [
    {
     "name": "stdout",
     "output_type": "stream",
     "text": [
      "Show only not-started quests\n"
     ]
    },
    {
     "name": "stderr",
     "output_type": "stream",
     "text": [
      "/var/folders/ts/l4jvqvn135g1lpkckf7t5cmc0000gn/T/ipykernel_3478/4233809287.py:2: DeprecationWarning: find_elements_by_css_selector is deprecated. Please use find_elements(by=By.CSS_SELECTOR, value=css_selector) instead\n",
      "  menu_list = driver.find_elements_by_css_selector('ul div')\n"
     ]
    }
   ],
   "source": [
    "# Search the link to not-started quests\n",
    "menu_list = driver.find_elements_by_css_selector('ul div')\n",
    "for option in menu_list:\n",
    "    if option.text == \"Show only not-started quests\":\n",
    "        print(option.text)\n",
    "        option.click()"
   ]
  },
  {
   "cell_type": "code",
   "execution_count": 47,
   "id": "cf95ff4d",
   "metadata": {
    "id": "cf95ff4d"
   },
   "outputs": [
    {
     "name": "stderr",
     "output_type": "stream",
     "text": [
      "/var/folders/ts/l4jvqvn135g1lpkckf7t5cmc0000gn/T/ipykernel_3478/2751783067.py:2: DeprecationWarning: find_elements_by_css_selector is deprecated. Please use find_elements(by=By.CSS_SELECTOR, value=css_selector) instead\n",
      "  quests_left = pd.DataFrame(driver.find_elements_by_css_selector(\"div.quest_titleContainer\"), columns=[\"html\"])\n"
     ]
    },
    {
     "data": {
      "text/plain": [
       "0           2.3 Pandas - Missing values automation\n",
       "1                  Git/GitHub 5: Merge & Conflicts\n",
       "2                             Git/GitHub 6: Revert\n",
       "3             Git/GitHub 7: Going further with Git\n",
       "4             How to pitch yourself (ENGLISH only)\n",
       "5             How to pitch yourself (ENGLISH only)\n",
       "6     Introduction to Digital Ergonomics (for Dev)\n",
       "7     Introduction to Digital Ergonomics (for Dev)\n",
       "8      Introduction to web accessibility (for Dev)\n",
       "9      Introduction to web accessibility (for Dev)\n",
       "10                       NLP 6: Sentiment analysis\n",
       "Name: label, dtype: object"
      ]
     },
     "execution_count": 47,
     "metadata": {},
     "output_type": "execute_result"
    }
   ],
   "source": [
    "# Displays all the quests left\n",
    "quests_left = pd.DataFrame(driver.find_elements_by_css_selector(\"div.quest_titleContainer\"), columns=[\"html\"])\n",
    "quests_left[\"label\"] = quests_left[\"html\"].apply(lambda x : x.text)\n",
    "quests_left[\"label\"]"
   ]
  },
  {
   "cell_type": "code",
   "execution_count": 48,
   "id": "b4f1dd97",
   "metadata": {},
   "outputs": [
    {
     "name": "stdout",
     "output_type": "stream",
     "text": [
      "Please select a quest : 10\n"
     ]
    }
   ],
   "source": [
    "quest_num = int(input(\"Please select a quest : \"))"
   ]
  },
  {
   "cell_type": "code",
   "execution_count": 49,
   "id": "ab9981b7",
   "metadata": {
    "id": "ab9981b7"
   },
   "outputs": [
    {
     "name": "stderr",
     "output_type": "stream",
     "text": [
      "/var/folders/ts/l4jvqvn135g1lpkckf7t5cmc0000gn/T/ipykernel_3478/1189544802.py:4: DeprecationWarning: find_element_by_link_text is deprecated. Please use find_element(by=By.LINK_TEXT, value=link_text) instead\n",
      "  driver.find_element_by_link_text(\"SEE QUEST\").click()\n"
     ]
    }
   ],
   "source": [
    "# Mouve the robot to the selected element then cLick the button to see the quest\n",
    "a = ActionChains(driver)\n",
    "a.move_to_element(quests_left.loc[quest_num, \"html\"]).perform()\n",
    "driver.find_element_by_link_text(\"SEE QUEST\").click()"
   ]
  },
  {
   "cell_type": "code",
   "execution_count": 50,
   "id": "9ea034e6",
   "metadata": {
    "id": "9ea034e6"
   },
   "outputs": [
    {
     "name": "stderr",
     "output_type": "stream",
     "text": [
      "/var/folders/ts/l4jvqvn135g1lpkckf7t5cmc0000gn/T/ipykernel_3478/4194074814.py:2: DeprecationWarning: find_elements_by_css_selector is deprecated. Please use find_elements(by=By.CSS_SELECTOR, value=css_selector) instead\n",
      "  quests_left = pd.DataFrame(driver.find_elements_by_css_selector(\"div\"), columns=[\"html\"])\n"
     ]
    }
   ],
   "source": [
    "# Get info with Selenium\n",
    "quests_left = pd.DataFrame(driver.find_elements_by_css_selector(\"div\"), columns=[\"html\"])\n",
    "quests_left[\"text\"] = quests_left[\"html\"].apply(lambda x : x.text)\n",
    "quests_left[\"attributes\"] = quests_left[\"html\"].apply(lambda x : x.get_attribute(\"class\"))\n",
    "\n"
   ]
  },
  {
   "cell_type": "code",
   "execution_count": 51,
   "id": "9e1eaf2d",
   "metadata": {},
   "outputs": [
    {
     "name": "stdout",
     "output_type": "stream",
     "text": [
      "NLP 6: Sentiment analysis\n",
      "Machine learning\n",
      "2h\n",
      "3 peers\n",
      "0\n",
      "Have you finished these quests?\n",
      "Goals\n",
      "It's time to put all the previous concepts together!\n",
      "Challenge\n",
      "Import this dataset of tweets into a DataFrame.\n",
      "Keep only the positive and negative tweets (so you exclude the neutral). What is the percentage of positive/negative tweets?\n",
      "Create a function you call clean that takes a sentence as parameter (so a str text) and returns a text (str) of tokens after applying a stemmer or a lemmatizer, separated by spaces.\n",
      "You can test your function with this sentence, it should return something like this result:\n",
      "1lemma(\"You are better when I am well.\")\n",
      "2\n",
      "3>>> \"-PRON- be well when -PRON- be well .\"\n",
      "Get the list of English stopwords from NLTK, and copy it into a stopwordsenglish list. Complete your clean function so that it removes punctuation and stopwords.\n",
      "Apply this clean function to the text column of your DataFrame. Store the result in a new clean column in the DataFrame. (The processing may take 2 or 3 minutes)\n",
      "You should now have a DataFrame that looks like this (minus the -PRON- , punctuation and maybe other words depending on the stopwords you cleaned up):\n",
      "Copy the clean column into a Series X, and the sentiment column into a Series y. Apply a split test-train with the training set size at 0.75 with random_state = 32.\n",
      "Apply a CountVectorizer and train classification models.\n",
      "Apply a TfidfVectorizer and train classification models.\n",
      "Compare the scores, which parameters give the best scores?\n",
      "Bonus: now it's your turn to improve your model:\n",
      "By looking for model parameters : by gridsearch and crossvalidation for example ;\n",
      "By changing the preparation of the text: for example some punctuations can help the model, the exclamation mark in particular.\n",
      "Validation criteria\n",
      "The notebook is available to anyone with the link provided by the student.\n",
      "The text has undergone the required preprocessing (stop words, stemmer/lemmatizer).\n",
      "CountVectorizer and TfidfVectorizer are used for preprocessing, and their performance is compared.\n",
      "The classifications of tweets are performed\n",
      "The performance of the models is measured.\n",
      "All steps are performed.\n",
      "Link to your solution: *\n",
      "Help us improve by giving us a review on this quest: *\n",
      "1 Star\n",
      "2 Stars\n",
      "3 Stars\n",
      "4 Stars\n",
      "5 Stars\n",
      "Empty\n",
      "Leave us a comment about this quest:\n",
      "SUBMIT YOUR SOLUTION\n",
      "0Have you finished these quests?\n",
      "Goals\n",
      "It's time to put all the previous concepts together!\n",
      "Challenge\n",
      "Import this dataset of tweets into a DataFrame.\n",
      "Keep only the positive and negative tweets (so you exclude the neutral). What is the percentage of positive/negative tweets?\n",
      "Create a function you call clean that takes a sentence as parameter (so a str text) and returns a text (str) of tokens after applying a stemmer or a lemmatizer, separated by spaces.\n",
      "You can test your function with this sentence, it should return something like this result:\n",
      "1lemma(\"You are better when I am well.\")\n",
      "2\n",
      "3>>> \"-PRON- be well when -PRON- be well .\"\n",
      "Get the list of English stopwords from NLTK, and copy it into a stopwordsenglish list. Complete your clean function so that it removes punctuation and stopwords.\n",
      "Apply this clean function to the text column of your DataFrame. Store the result in a new clean column in the DataFrame. (The processing may take 2 or 3 minutes)\n",
      "You should now have a DataFrame that looks like this (minus the -PRON- , punctuation and maybe other words depending on the stopwords you cleaned up):\n",
      "Copy the clean column into a Series X, and the sentiment column into a Series y. Apply a split test-train with the training set size at 0.75 with random_state = 32.\n",
      "Apply a CountVectorizer and train classification models.\n",
      "Apply a TfidfVectorizer and train classification models.\n",
      "Compare the scores, which parameters give the best scores?\n",
      "Bonus: now it's your turn to improve your model:\n",
      "By looking for model parameters : by gridsearch and crossvalidation for example ;\n",
      "By changing the preparation of the text: for example some punctuations can help the model, the exclamation mark in particular.\n",
      "Validation criteria\n",
      "The notebook is available to anyone with the link provided by the student.\n",
      "The text has undergone the required preprocessing (stop words, stemmer/lemmatizer).\n",
      "CountVectorizer and TfidfVectorizer are used for preprocessing, and their performance is compared.\n",
      "The classifications of tweets are performed\n",
      "The performance of the models is measured.\n",
      "All steps are performed.Link to your solution: *\n",
      "Help us improve by giving us a review on this quest: *\n",
      "1 Star\n",
      "2 Stars\n",
      "3 Stars\n",
      "4 Stars\n",
      "5 Stars\n",
      "Empty\n",
      "Leave us a comment about this quest:\n",
      "SUBMIT YOUR SOLUTION\n"
     ]
    }
   ],
   "source": [
    "print(quests_left[quests_left[\"attributes\"].str.contains('questContent')][\"text\"].sum())"
   ]
  }
 ],
 "metadata": {
  "colab": {
   "name": "WCS Lesson - Selenium.ipynb",
   "provenance": []
  },
  "kernelspec": {
   "display_name": "Python 3 (ipykernel)",
   "language": "python",
   "name": "python3"
  },
  "language_info": {
   "codemirror_mode": {
    "name": "ipython",
    "version": 3
   },
   "file_extension": ".py",
   "mimetype": "text/x-python",
   "name": "python",
   "nbconvert_exporter": "python",
   "pygments_lexer": "ipython3",
   "version": "3.9.7"
  }
 },
 "nbformat": 4,
 "nbformat_minor": 5
}
